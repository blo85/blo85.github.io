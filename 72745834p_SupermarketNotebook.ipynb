{
  "nbformat": 4,
  "nbformat_minor": 0,
  "metadata": {
    "colab": {
      "provenance": []
    },
    "kernelspec": {
      "name": "python3",
      "display_name": "Python 3"
    },
    "language_info": {
      "name": "python"
    }
  },
  "cells": [
    {
      "cell_type": "markdown",
      "source": [
        "# Supermarket data analysis\n",
        "\n",
        "A Spanish supermarket chain has provided us with a file that includes data with sales information od three months from supermarkets located in 3 different Spanish cities.\n",
        "\n",
        "You should analyze the historical record of sales data to:\n",
        "1. answer the questions there are already in the notebook\n",
        "2. extract **some conclusions and recommendations**  about their customers' purchase patterns.\n",
        "\n",
        "The following are the columns included in the dataset:\n",
        "\n",
        "* Invoice id: Computer generated sales slip invoice identification number\n",
        "\n",
        "* Branch: Branch of supercenter (3 branches are available identified by A, B and C).\n",
        "\n",
        "* City: Location of supercenters\n",
        "\n",
        "* Customer type: Type of customers, recorded by Members for customers using member card and Normal for without member card.\n",
        "\n",
        "* Gender: Gender type of customer\n",
        "\n",
        "* Product line: General item categorization groups - Electronic accessories, Fashion accessories, Food and beverages, Health and beauty, Home and lifestyle, Sports and travel\n",
        "\n",
        "* Unit price: Price of each product in $\n",
        "\n",
        "* Quantity: Number of products purchased by customer\n",
        "\n",
        "* Date: Date of purchase (Record available from January 2019 to March 2019)\n",
        "\n",
        "* Time: Purchase time (10am to 9pm)\n",
        "\n",
        "* Payment: Payment used by customer for purchase (3 methods are available – Cash, Credit card and Ewallet)\n",
        "\n",
        "* Gross margin measures a company's gross profit compared to its revenues as a percentage. A higher gross margin means a company retains more capital.\n",
        "\n",
        "* Rating: Customer stratification rating on their overall shopping experience (On a scale of 1 to 10)\n",
        "\n",
        "* Age: customer's age"
      ],
      "metadata": {
        "id": "AJ-Dz-fCSAEe"
      }
    },
    {
      "cell_type": "markdown",
      "source": [
        "## Import the libraries"
      ],
      "metadata": {
        "id": "L8aYuJPTTGz9"
      }
    },
    {
      "cell_type": "code",
      "source": [
        "import numpy as np # linear algebra\n",
        "import pandas as pd # data processing, CSV file I/O (e.g. pd.read_csv)\n",
        "import datetime as dt\n",
        "import matplotlib.pyplot as plt\n",
        "import seaborn as sns\n",
        "import plotly.graph_objects as go\n",
        "import plotly.express as px"
      ],
      "metadata": {
        "id": "igI8vEudS8a4"
      },
      "execution_count": 47,
      "outputs": []
    },
    {
      "cell_type": "markdown",
      "source": [
        "## Load the data from google drive"
      ],
      "metadata": {
        "id": "6t0c775mTPUM"
      }
    },
    {
      "cell_type": "code",
      "source": [
        "from google.colab import drive\n",
        "drive.mount('/content/drive')"
      ],
      "metadata": {
        "id": "sibUXT5aXfUd",
        "colab": {
          "base_uri": "https://localhost:8080/"
        },
        "outputId": "b0bc1c68-0c49-40f9-8157-db6a6782c1a8"
      },
      "execution_count": 48,
      "outputs": [
        {
          "output_type": "stream",
          "name": "stdout",
          "text": [
            "Drive already mounted at /content/drive; to attempt to forcibly remount, call drive.mount(\"/content/drive\", force_remount=True).\n"
          ]
        }
      ]
    },
    {
      "cell_type": "markdown",
      "source": [
        "Show the first rows to inspect the content of **df** variable."
      ],
      "metadata": {
        "id": "wq6Po4CnnGLE"
      }
    },
    {
      "cell_type": "code",
      "source": [
        "file_path = '/content/drive/MyDrive/Informática para la Investigación/Entrega/supermarket.csv'\n",
        "df = pd.read_csv(file_path)\n",
        "df.head()\n"
      ],
      "metadata": {
        "id": "kKdH7hjhXXj4",
        "colab": {
          "base_uri": "https://localhost:8080/",
          "height": 206
        },
        "outputId": "366aac36-7840-4714-9442-a073610ebd3b"
      },
      "execution_count": 49,
      "outputs": [
        {
          "output_type": "execute_result",
          "data": {
            "text/plain": [
              "    Invoice ID Branch    City Customer type  Gender            Product line  \\\n",
              "0  750-67-8428      A  Bilbao        Member  Female       Health and beauty   \n",
              "1  226-31-3081      C  Madrid        Normal  Female  Electronic accessories   \n",
              "2  631-41-3108      A  Bilbao        Normal    Male      Home and lifestyle   \n",
              "3  123-19-1176      A  Bilbao        Member    Male       Health and beauty   \n",
              "4  373-73-7910      A  Bilbao        Normal    Male       Sports and travel   \n",
              "\n",
              "   Unit price  Quantity  Gross cost      Payment  Rating  \\\n",
              "0       74.69         7      522.83      Ewallet     9.1   \n",
              "1       15.28         5       76.40         Cash     9.6   \n",
              "2       46.33         7      324.31  Credit card     7.4   \n",
              "3       58.22         8      465.76      Ewallet     8.4   \n",
              "4       86.31         7      604.17      Ewallet     5.3   \n",
              "\n",
              "   gross margin percentage       Date   Time  age  \n",
              "0                 4.761905   1/5/2019  13:08   26  \n",
              "1                 4.761905   3/8/2019  10:29   52  \n",
              "2                 4.761905   3/3/2019  13:23   46  \n",
              "3                 4.761905  1/27/2019  20:33   18  \n",
              "4                 4.761905   2/8/2019  10:37   30  "
            ],
            "text/html": [
              "\n",
              "  <div id=\"df-a27a90fc-22a4-411e-af12-6b159864bea9\" class=\"colab-df-container\">\n",
              "    <div>\n",
              "<style scoped>\n",
              "    .dataframe tbody tr th:only-of-type {\n",
              "        vertical-align: middle;\n",
              "    }\n",
              "\n",
              "    .dataframe tbody tr th {\n",
              "        vertical-align: top;\n",
              "    }\n",
              "\n",
              "    .dataframe thead th {\n",
              "        text-align: right;\n",
              "    }\n",
              "</style>\n",
              "<table border=\"1\" class=\"dataframe\">\n",
              "  <thead>\n",
              "    <tr style=\"text-align: right;\">\n",
              "      <th></th>\n",
              "      <th>Invoice ID</th>\n",
              "      <th>Branch</th>\n",
              "      <th>City</th>\n",
              "      <th>Customer type</th>\n",
              "      <th>Gender</th>\n",
              "      <th>Product line</th>\n",
              "      <th>Unit price</th>\n",
              "      <th>Quantity</th>\n",
              "      <th>Gross cost</th>\n",
              "      <th>Payment</th>\n",
              "      <th>Rating</th>\n",
              "      <th>gross margin percentage</th>\n",
              "      <th>Date</th>\n",
              "      <th>Time</th>\n",
              "      <th>age</th>\n",
              "    </tr>\n",
              "  </thead>\n",
              "  <tbody>\n",
              "    <tr>\n",
              "      <th>0</th>\n",
              "      <td>750-67-8428</td>\n",
              "      <td>A</td>\n",
              "      <td>Bilbao</td>\n",
              "      <td>Member</td>\n",
              "      <td>Female</td>\n",
              "      <td>Health and beauty</td>\n",
              "      <td>74.69</td>\n",
              "      <td>7</td>\n",
              "      <td>522.83</td>\n",
              "      <td>Ewallet</td>\n",
              "      <td>9.1</td>\n",
              "      <td>4.761905</td>\n",
              "      <td>1/5/2019</td>\n",
              "      <td>13:08</td>\n",
              "      <td>26</td>\n",
              "    </tr>\n",
              "    <tr>\n",
              "      <th>1</th>\n",
              "      <td>226-31-3081</td>\n",
              "      <td>C</td>\n",
              "      <td>Madrid</td>\n",
              "      <td>Normal</td>\n",
              "      <td>Female</td>\n",
              "      <td>Electronic accessories</td>\n",
              "      <td>15.28</td>\n",
              "      <td>5</td>\n",
              "      <td>76.40</td>\n",
              "      <td>Cash</td>\n",
              "      <td>9.6</td>\n",
              "      <td>4.761905</td>\n",
              "      <td>3/8/2019</td>\n",
              "      <td>10:29</td>\n",
              "      <td>52</td>\n",
              "    </tr>\n",
              "    <tr>\n",
              "      <th>2</th>\n",
              "      <td>631-41-3108</td>\n",
              "      <td>A</td>\n",
              "      <td>Bilbao</td>\n",
              "      <td>Normal</td>\n",
              "      <td>Male</td>\n",
              "      <td>Home and lifestyle</td>\n",
              "      <td>46.33</td>\n",
              "      <td>7</td>\n",
              "      <td>324.31</td>\n",
              "      <td>Credit card</td>\n",
              "      <td>7.4</td>\n",
              "      <td>4.761905</td>\n",
              "      <td>3/3/2019</td>\n",
              "      <td>13:23</td>\n",
              "      <td>46</td>\n",
              "    </tr>\n",
              "    <tr>\n",
              "      <th>3</th>\n",
              "      <td>123-19-1176</td>\n",
              "      <td>A</td>\n",
              "      <td>Bilbao</td>\n",
              "      <td>Member</td>\n",
              "      <td>Male</td>\n",
              "      <td>Health and beauty</td>\n",
              "      <td>58.22</td>\n",
              "      <td>8</td>\n",
              "      <td>465.76</td>\n",
              "      <td>Ewallet</td>\n",
              "      <td>8.4</td>\n",
              "      <td>4.761905</td>\n",
              "      <td>1/27/2019</td>\n",
              "      <td>20:33</td>\n",
              "      <td>18</td>\n",
              "    </tr>\n",
              "    <tr>\n",
              "      <th>4</th>\n",
              "      <td>373-73-7910</td>\n",
              "      <td>A</td>\n",
              "      <td>Bilbao</td>\n",
              "      <td>Normal</td>\n",
              "      <td>Male</td>\n",
              "      <td>Sports and travel</td>\n",
              "      <td>86.31</td>\n",
              "      <td>7</td>\n",
              "      <td>604.17</td>\n",
              "      <td>Ewallet</td>\n",
              "      <td>5.3</td>\n",
              "      <td>4.761905</td>\n",
              "      <td>2/8/2019</td>\n",
              "      <td>10:37</td>\n",
              "      <td>30</td>\n",
              "    </tr>\n",
              "  </tbody>\n",
              "</table>\n",
              "</div>\n",
              "    <div class=\"colab-df-buttons\">\n",
              "\n",
              "  <div class=\"colab-df-container\">\n",
              "    <button class=\"colab-df-convert\" onclick=\"convertToInteractive('df-a27a90fc-22a4-411e-af12-6b159864bea9')\"\n",
              "            title=\"Convert this dataframe to an interactive table.\"\n",
              "            style=\"display:none;\">\n",
              "\n",
              "  <svg xmlns=\"http://www.w3.org/2000/svg\" height=\"24px\" viewBox=\"0 -960 960 960\">\n",
              "    <path d=\"M120-120v-720h720v720H120Zm60-500h600v-160H180v160Zm220 220h160v-160H400v160Zm0 220h160v-160H400v160ZM180-400h160v-160H180v160Zm440 0h160v-160H620v160ZM180-180h160v-160H180v160Zm440 0h160v-160H620v160Z\"/>\n",
              "  </svg>\n",
              "    </button>\n",
              "\n",
              "  <style>\n",
              "    .colab-df-container {\n",
              "      display:flex;\n",
              "      gap: 12px;\n",
              "    }\n",
              "\n",
              "    .colab-df-convert {\n",
              "      background-color: #E8F0FE;\n",
              "      border: none;\n",
              "      border-radius: 50%;\n",
              "      cursor: pointer;\n",
              "      display: none;\n",
              "      fill: #1967D2;\n",
              "      height: 32px;\n",
              "      padding: 0 0 0 0;\n",
              "      width: 32px;\n",
              "    }\n",
              "\n",
              "    .colab-df-convert:hover {\n",
              "      background-color: #E2EBFA;\n",
              "      box-shadow: 0px 1px 2px rgba(60, 64, 67, 0.3), 0px 1px 3px 1px rgba(60, 64, 67, 0.15);\n",
              "      fill: #174EA6;\n",
              "    }\n",
              "\n",
              "    .colab-df-buttons div {\n",
              "      margin-bottom: 4px;\n",
              "    }\n",
              "\n",
              "    [theme=dark] .colab-df-convert {\n",
              "      background-color: #3B4455;\n",
              "      fill: #D2E3FC;\n",
              "    }\n",
              "\n",
              "    [theme=dark] .colab-df-convert:hover {\n",
              "      background-color: #434B5C;\n",
              "      box-shadow: 0px 1px 3px 1px rgba(0, 0, 0, 0.15);\n",
              "      filter: drop-shadow(0px 1px 2px rgba(0, 0, 0, 0.3));\n",
              "      fill: #FFFFFF;\n",
              "    }\n",
              "  </style>\n",
              "\n",
              "    <script>\n",
              "      const buttonEl =\n",
              "        document.querySelector('#df-a27a90fc-22a4-411e-af12-6b159864bea9 button.colab-df-convert');\n",
              "      buttonEl.style.display =\n",
              "        google.colab.kernel.accessAllowed ? 'block' : 'none';\n",
              "\n",
              "      async function convertToInteractive(key) {\n",
              "        const element = document.querySelector('#df-a27a90fc-22a4-411e-af12-6b159864bea9');\n",
              "        const dataTable =\n",
              "          await google.colab.kernel.invokeFunction('convertToInteractive',\n",
              "                                                    [key], {});\n",
              "        if (!dataTable) return;\n",
              "\n",
              "        const docLinkHtml = 'Like what you see? Visit the ' +\n",
              "          '<a target=\"_blank\" href=https://colab.research.google.com/notebooks/data_table.ipynb>data table notebook</a>'\n",
              "          + ' to learn more about interactive tables.';\n",
              "        element.innerHTML = '';\n",
              "        dataTable['output_type'] = 'display_data';\n",
              "        await google.colab.output.renderOutput(dataTable, element);\n",
              "        const docLink = document.createElement('div');\n",
              "        docLink.innerHTML = docLinkHtml;\n",
              "        element.appendChild(docLink);\n",
              "      }\n",
              "    </script>\n",
              "  </div>\n",
              "\n",
              "\n",
              "<div id=\"df-56e2ed52-e8ca-4eb8-9683-65e5ec85e0e4\">\n",
              "  <button class=\"colab-df-quickchart\" onclick=\"quickchart('df-56e2ed52-e8ca-4eb8-9683-65e5ec85e0e4')\"\n",
              "            title=\"Suggest charts\"\n",
              "            style=\"display:none;\">\n",
              "\n",
              "<svg xmlns=\"http://www.w3.org/2000/svg\" height=\"24px\"viewBox=\"0 0 24 24\"\n",
              "     width=\"24px\">\n",
              "    <g>\n",
              "        <path d=\"M19 3H5c-1.1 0-2 .9-2 2v14c0 1.1.9 2 2 2h14c1.1 0 2-.9 2-2V5c0-1.1-.9-2-2-2zM9 17H7v-7h2v7zm4 0h-2V7h2v10zm4 0h-2v-4h2v4z\"/>\n",
              "    </g>\n",
              "</svg>\n",
              "  </button>\n",
              "\n",
              "<style>\n",
              "  .colab-df-quickchart {\n",
              "      --bg-color: #E8F0FE;\n",
              "      --fill-color: #1967D2;\n",
              "      --hover-bg-color: #E2EBFA;\n",
              "      --hover-fill-color: #174EA6;\n",
              "      --disabled-fill-color: #AAA;\n",
              "      --disabled-bg-color: #DDD;\n",
              "  }\n",
              "\n",
              "  [theme=dark] .colab-df-quickchart {\n",
              "      --bg-color: #3B4455;\n",
              "      --fill-color: #D2E3FC;\n",
              "      --hover-bg-color: #434B5C;\n",
              "      --hover-fill-color: #FFFFFF;\n",
              "      --disabled-bg-color: #3B4455;\n",
              "      --disabled-fill-color: #666;\n",
              "  }\n",
              "\n",
              "  .colab-df-quickchart {\n",
              "    background-color: var(--bg-color);\n",
              "    border: none;\n",
              "    border-radius: 50%;\n",
              "    cursor: pointer;\n",
              "    display: none;\n",
              "    fill: var(--fill-color);\n",
              "    height: 32px;\n",
              "    padding: 0;\n",
              "    width: 32px;\n",
              "  }\n",
              "\n",
              "  .colab-df-quickchart:hover {\n",
              "    background-color: var(--hover-bg-color);\n",
              "    box-shadow: 0 1px 2px rgba(60, 64, 67, 0.3), 0 1px 3px 1px rgba(60, 64, 67, 0.15);\n",
              "    fill: var(--button-hover-fill-color);\n",
              "  }\n",
              "\n",
              "  .colab-df-quickchart-complete:disabled,\n",
              "  .colab-df-quickchart-complete:disabled:hover {\n",
              "    background-color: var(--disabled-bg-color);\n",
              "    fill: var(--disabled-fill-color);\n",
              "    box-shadow: none;\n",
              "  }\n",
              "\n",
              "  .colab-df-spinner {\n",
              "    border: 2px solid var(--fill-color);\n",
              "    border-color: transparent;\n",
              "    border-bottom-color: var(--fill-color);\n",
              "    animation:\n",
              "      spin 1s steps(1) infinite;\n",
              "  }\n",
              "\n",
              "  @keyframes spin {\n",
              "    0% {\n",
              "      border-color: transparent;\n",
              "      border-bottom-color: var(--fill-color);\n",
              "      border-left-color: var(--fill-color);\n",
              "    }\n",
              "    20% {\n",
              "      border-color: transparent;\n",
              "      border-left-color: var(--fill-color);\n",
              "      border-top-color: var(--fill-color);\n",
              "    }\n",
              "    30% {\n",
              "      border-color: transparent;\n",
              "      border-left-color: var(--fill-color);\n",
              "      border-top-color: var(--fill-color);\n",
              "      border-right-color: var(--fill-color);\n",
              "    }\n",
              "    40% {\n",
              "      border-color: transparent;\n",
              "      border-right-color: var(--fill-color);\n",
              "      border-top-color: var(--fill-color);\n",
              "    }\n",
              "    60% {\n",
              "      border-color: transparent;\n",
              "      border-right-color: var(--fill-color);\n",
              "    }\n",
              "    80% {\n",
              "      border-color: transparent;\n",
              "      border-right-color: var(--fill-color);\n",
              "      border-bottom-color: var(--fill-color);\n",
              "    }\n",
              "    90% {\n",
              "      border-color: transparent;\n",
              "      border-bottom-color: var(--fill-color);\n",
              "    }\n",
              "  }\n",
              "</style>\n",
              "\n",
              "  <script>\n",
              "    async function quickchart(key) {\n",
              "      const quickchartButtonEl =\n",
              "        document.querySelector('#' + key + ' button');\n",
              "      quickchartButtonEl.disabled = true;  // To prevent multiple clicks.\n",
              "      quickchartButtonEl.classList.add('colab-df-spinner');\n",
              "      try {\n",
              "        const charts = await google.colab.kernel.invokeFunction(\n",
              "            'suggestCharts', [key], {});\n",
              "      } catch (error) {\n",
              "        console.error('Error during call to suggestCharts:', error);\n",
              "      }\n",
              "      quickchartButtonEl.classList.remove('colab-df-spinner');\n",
              "      quickchartButtonEl.classList.add('colab-df-quickchart-complete');\n",
              "    }\n",
              "    (() => {\n",
              "      let quickchartButtonEl =\n",
              "        document.querySelector('#df-56e2ed52-e8ca-4eb8-9683-65e5ec85e0e4 button');\n",
              "      quickchartButtonEl.style.display =\n",
              "        google.colab.kernel.accessAllowed ? 'block' : 'none';\n",
              "    })();\n",
              "  </script>\n",
              "</div>\n",
              "    </div>\n",
              "  </div>\n"
            ],
            "application/vnd.google.colaboratory.intrinsic+json": {
              "type": "dataframe",
              "variable_name": "df",
              "summary": "{\n  \"name\": \"df\",\n  \"rows\": 1015,\n  \"fields\": [\n    {\n      \"column\": \"Invoice ID\",\n      \"properties\": {\n        \"dtype\": \"string\",\n        \"num_unique_values\": 1000,\n        \"samples\": [\n          \"451-28-5717\",\n          \"137-63-5492\",\n          \"733-29-1227\"\n        ],\n        \"semantic_type\": \"\",\n        \"description\": \"\"\n      }\n    },\n    {\n      \"column\": \"Branch\",\n      \"properties\": {\n        \"dtype\": \"category\",\n        \"num_unique_values\": 3,\n        \"samples\": [\n          \"A\",\n          \"C\",\n          \"B\"\n        ],\n        \"semantic_type\": \"\",\n        \"description\": \"\"\n      }\n    },\n    {\n      \"column\": \"City\",\n      \"properties\": {\n        \"dtype\": \"category\",\n        \"num_unique_values\": 3,\n        \"samples\": [\n          \"Bilbao\",\n          \"Madrid\",\n          \"Barcelona\"\n        ],\n        \"semantic_type\": \"\",\n        \"description\": \"\"\n      }\n    },\n    {\n      \"column\": \"Customer type\",\n      \"properties\": {\n        \"dtype\": \"category\",\n        \"num_unique_values\": 2,\n        \"samples\": [\n          \"Normal\",\n          \"Member\"\n        ],\n        \"semantic_type\": \"\",\n        \"description\": \"\"\n      }\n    },\n    {\n      \"column\": \"Gender\",\n      \"properties\": {\n        \"dtype\": \"category\",\n        \"num_unique_values\": 2,\n        \"samples\": [\n          \"Male\",\n          \"Female\"\n        ],\n        \"semantic_type\": \"\",\n        \"description\": \"\"\n      }\n    },\n    {\n      \"column\": \"Product line\",\n      \"properties\": {\n        \"dtype\": \"category\",\n        \"num_unique_values\": 6,\n        \"samples\": [\n          \"Health and beauty\",\n          \"Electronic accessories\"\n        ],\n        \"semantic_type\": \"\",\n        \"description\": \"\"\n      }\n    },\n    {\n      \"column\": \"Unit price\",\n      \"properties\": {\n        \"dtype\": \"number\",\n        \"std\": 26.420185191853477,\n        \"min\": 10.08,\n        \"max\": 99.96,\n        \"num_unique_values\": 939,\n        \"samples\": [\n          14.96,\n          15.81\n        ],\n        \"semantic_type\": \"\",\n        \"description\": \"\"\n      }\n    },\n    {\n      \"column\": \"Quantity\",\n      \"properties\": {\n        \"dtype\": \"number\",\n        \"std\": 2,\n        \"min\": 1,\n        \"max\": 10,\n        \"num_unique_values\": 10,\n        \"samples\": [\n          1,\n          5\n        ],\n        \"semantic_type\": \"\",\n        \"description\": \"\"\n      }\n    },\n    {\n      \"column\": \"Gross cost\",\n      \"properties\": {\n        \"dtype\": \"number\",\n        \"std\": 235.67781101419712,\n        \"min\": 10.17,\n        \"max\": 993.0,\n        \"num_unique_values\": 990,\n        \"samples\": [\n          18.28,\n          46.96\n        ],\n        \"semantic_type\": \"\",\n        \"description\": \"\"\n      }\n    },\n    {\n      \"column\": \"Payment\",\n      \"properties\": {\n        \"dtype\": \"category\",\n        \"num_unique_values\": 3,\n        \"samples\": [\n          \"Ewallet\",\n          \"Cash\"\n        ],\n        \"semantic_type\": \"\",\n        \"description\": \"\"\n      }\n    },\n    {\n      \"column\": \"Rating\",\n      \"properties\": {\n        \"dtype\": \"number\",\n        \"std\": 1.7193352717215817,\n        \"min\": 4.0,\n        \"max\": 10.0,\n        \"num_unique_values\": 61,\n        \"samples\": [\n          9.1,\n          4.1\n        ],\n        \"semantic_type\": \"\",\n        \"description\": \"\"\n      }\n    },\n    {\n      \"column\": \"gross margin percentage\",\n      \"properties\": {\n        \"dtype\": \"number\",\n        \"std\": 0.0,\n        \"min\": 4.761904762,\n        \"max\": 4.761904762,\n        \"num_unique_values\": 1,\n        \"samples\": [\n          4.761904762\n        ],\n        \"semantic_type\": \"\",\n        \"description\": \"\"\n      }\n    },\n    {\n      \"column\": \"Date\",\n      \"properties\": {\n        \"dtype\": \"object\",\n        \"num_unique_values\": 89,\n        \"samples\": [\n          \"2/14/2019\"\n        ],\n        \"semantic_type\": \"\",\n        \"description\": \"\"\n      }\n    },\n    {\n      \"column\": \"Time\",\n      \"properties\": {\n        \"dtype\": \"object\",\n        \"num_unique_values\": 506,\n        \"samples\": [\n          \"10:13\"\n        ],\n        \"semantic_type\": \"\",\n        \"description\": \"\"\n      }\n    },\n    {\n      \"column\": \"age\",\n      \"properties\": {\n        \"dtype\": \"number\",\n        \"std\": 18,\n        \"min\": 18,\n        \"max\": 79,\n        \"num_unique_values\": 62,\n        \"samples\": [\n          48\n        ],\n        \"semantic_type\": \"\",\n        \"description\": \"\"\n      }\n    }\n  ]\n}"
            }
          },
          "metadata": {},
          "execution_count": 49
        }
      ]
    },
    {
      "cell_type": "code",
      "source": [
        "# Print the first 5 columns of the dataset\n",
        "first_five_columns = df.iloc[:, :5]\n",
        "print(first_five_columns)\n"
      ],
      "metadata": {
        "id": "D9wkfBqktYY-",
        "colab": {
          "base_uri": "https://localhost:8080/"
        },
        "outputId": "c40518c9-c016-401e-8e87-fd73a93e8812"
      },
      "execution_count": 50,
      "outputs": [
        {
          "output_type": "stream",
          "name": "stdout",
          "text": [
            "       Invoice ID Branch       City Customer type  Gender\n",
            "0     750-67-8428      A     Bilbao        Member  Female\n",
            "1     226-31-3081      C     Madrid        Normal  Female\n",
            "2     631-41-3108      A     Bilbao        Normal    Male\n",
            "3     123-19-1176      A     Bilbao        Member    Male\n",
            "4     373-73-7910      A     Bilbao        Normal    Male\n",
            "...           ...    ...        ...           ...     ...\n",
            "1010  233-67-5758      C     Madrid        Normal    Male\n",
            "1011  303-96-2227      B  Barcelona        Normal  Female\n",
            "1012  727-02-1313      A     Bilbao        Member    Male\n",
            "1013  347-56-2442      A     Bilbao        Normal    Male\n",
            "1014  849-09-3807      A     Bilbao        Member  Female\n",
            "\n",
            "[1015 rows x 5 columns]\n"
          ]
        }
      ]
    },
    {
      "cell_type": "code",
      "source": [
        "# Print the last 5 columns of the dataset\n",
        "last_five_columns = df.iloc[:, -5:]\n",
        "print(last_five_columns)\n"
      ],
      "metadata": {
        "id": "RhyauUlJ2g0t",
        "colab": {
          "base_uri": "https://localhost:8080/"
        },
        "outputId": "5327a8fe-e28b-497c-c87c-bc34036513e4"
      },
      "execution_count": 51,
      "outputs": [
        {
          "output_type": "stream",
          "name": "stdout",
          "text": [
            "      Rating  gross margin percentage       Date   Time  age\n",
            "0        9.1                 4.761905   1/5/2019  13:08   26\n",
            "1        9.6                 4.761905   3/8/2019  10:29   52\n",
            "2        7.4                 4.761905   3/3/2019  13:23   46\n",
            "3        8.4                 4.761905  1/27/2019  20:33   18\n",
            "4        5.3                 4.761905   2/8/2019  10:37   30\n",
            "...      ...                      ...        ...    ...  ...\n",
            "1010     6.2                 4.761905  1/29/2019  13:46   27\n",
            "1011     4.4                 4.761905   3/2/2019  17:16   67\n",
            "1012     7.7                 4.761905   2/9/2019  13:22   21\n",
            "1013     4.1                 4.761905  2/22/2019  15:33   66\n",
            "1014     6.6                 4.761905  2/18/2019  13:28   27\n",
            "\n",
            "[1015 rows x 5 columns]\n"
          ]
        }
      ]
    },
    {
      "cell_type": "markdown",
      "source": [
        "# Clean the dataset"
      ],
      "metadata": {
        "id": "KB2YCDRJ1w4m"
      }
    },
    {
      "cell_type": "markdown",
      "source": [
        "Show information about the not-null values count and the types of the columns."
      ],
      "metadata": {
        "id": "bK3_Zf8namEg"
      }
    },
    {
      "cell_type": "code",
      "source": [
        "df.info()\n"
      ],
      "metadata": {
        "id": "azHi9VzeanIo",
        "colab": {
          "base_uri": "https://localhost:8080/"
        },
        "outputId": "b8909403-7be2-46bb-f21d-e2def7b684c4"
      },
      "execution_count": 52,
      "outputs": [
        {
          "output_type": "stream",
          "name": "stdout",
          "text": [
            "<class 'pandas.core.frame.DataFrame'>\n",
            "RangeIndex: 1015 entries, 0 to 1014\n",
            "Data columns (total 15 columns):\n",
            " #   Column                   Non-Null Count  Dtype  \n",
            "---  ------                   --------------  -----  \n",
            " 0   Invoice ID               1015 non-null   object \n",
            " 1   Branch                   1015 non-null   object \n",
            " 2   City                     1015 non-null   object \n",
            " 3   Customer type            1015 non-null   object \n",
            " 4   Gender                   1015 non-null   object \n",
            " 5   Product line             1012 non-null   object \n",
            " 6   Unit price               1010 non-null   float64\n",
            " 7   Quantity                 1015 non-null   int64  \n",
            " 8   Gross cost               1015 non-null   float64\n",
            " 9   Payment                  1015 non-null   object \n",
            " 10  Rating                   1015 non-null   float64\n",
            " 11  gross margin percentage  1015 non-null   float64\n",
            " 12  Date                     1015 non-null   object \n",
            " 13  Time                     1015 non-null   object \n",
            " 14  age                      1015 non-null   int64  \n",
            "dtypes: float64(4), int64(2), object(9)\n",
            "memory usage: 119.1+ KB\n"
          ]
        }
      ]
    },
    {
      "cell_type": "markdown",
      "source": [
        "How many rows and columns are there?"
      ],
      "metadata": {
        "id": "kWZLR1gJa5d_"
      }
    },
    {
      "cell_type": "code",
      "source": [
        "num_rows, num_columns = df.shape\n",
        "\n",
        "print(f'Number of rows: {num_rows}')\n",
        "print(f'Number of columns: {num_columns}')"
      ],
      "metadata": {
        "id": "hOF_KtlNa6Rn",
        "colab": {
          "base_uri": "https://localhost:8080/"
        },
        "outputId": "a6d1dd4e-8f2f-4c29-8fa3-f22b858301fb"
      },
      "execution_count": 53,
      "outputs": [
        {
          "output_type": "stream",
          "name": "stdout",
          "text": [
            "Number of rows: 1015\n",
            "Number of columns: 15\n"
          ]
        }
      ]
    },
    {
      "cell_type": "markdown",
      "source": [
        "How many rows are duplicated?"
      ],
      "metadata": {
        "id": "z4EoiM_6cTIA"
      }
    },
    {
      "cell_type": "code",
      "source": [
        "num_duplicates = df.duplicated().sum()\n",
        "print(f'Number of duplicated rows: {num_duplicates}')"
      ],
      "metadata": {
        "id": "L2c_5quFcUCX",
        "colab": {
          "base_uri": "https://localhost:8080/"
        },
        "outputId": "45710a8c-5286-4626-8f49-79a495daf869"
      },
      "execution_count": 54,
      "outputs": [
        {
          "output_type": "stream",
          "name": "stdout",
          "text": [
            "Number of duplicated rows: 1\n"
          ]
        }
      ]
    },
    {
      "cell_type": "markdown",
      "source": [
        "How many missing values are there in each column? You should delete missing values."
      ],
      "metadata": {
        "id": "fewhLQ9ddQyy"
      }
    },
    {
      "cell_type": "code",
      "source": [
        "missing_values = df.isna().sum()\n",
        "print(\"Missing values in each column:\")\n",
        "print(missing_values)"
      ],
      "metadata": {
        "id": "vLGgV5tedRsg",
        "colab": {
          "base_uri": "https://localhost:8080/"
        },
        "outputId": "8e633687-c174-44e0-b4ee-9ee1ddbffe0f"
      },
      "execution_count": 55,
      "outputs": [
        {
          "output_type": "stream",
          "name": "stdout",
          "text": [
            "Missing values in each column:\n",
            "Invoice ID                 0\n",
            "Branch                     0\n",
            "City                       0\n",
            "Customer type              0\n",
            "Gender                     0\n",
            "Product line               3\n",
            "Unit price                 5\n",
            "Quantity                   0\n",
            "Gross cost                 0\n",
            "Payment                    0\n",
            "Rating                     0\n",
            "gross margin percentage    0\n",
            "Date                       0\n",
            "Time                       0\n",
            "age                        0\n",
            "dtype: int64\n"
          ]
        }
      ]
    },
    {
      "cell_type": "code",
      "source": [
        "df_cleaned = df.dropna()\n",
        "print(\"\\nDataFrame shape after dropping missing values:\")\n",
        "print(df_cleaned.shape)"
      ],
      "metadata": {
        "id": "ftDb6ie4daDB",
        "colab": {
          "base_uri": "https://localhost:8080/"
        },
        "outputId": "6ecae1f6-7c80-4220-caf9-883f6c33f6f0"
      },
      "execution_count": 56,
      "outputs": [
        {
          "output_type": "stream",
          "name": "stdout",
          "text": [
            "\n",
            "DataFrame shape after dropping missing values:\n",
            "(1007, 15)\n"
          ]
        }
      ]
    },
    {
      "cell_type": "markdown",
      "source": [
        "Delete gross margin percentage column.\n"
      ],
      "metadata": {
        "id": "PxJZPoACoarq"
      }
    },
    {
      "cell_type": "code",
      "source": [
        "df.drop(columns=['gross margin percentage'], inplace=True)\n",
        "\n",
        "print(\"Columns:\")\n",
        "print(df.columns)\n",
        "\n",
        "num_rows, num_columns = df.shape\n",
        "\n",
        "print(f'Number of rows: {num_rows}')\n",
        "print(f'Number of columns: {num_columns}')"
      ],
      "metadata": {
        "id": "IL915IvVo_UU",
        "colab": {
          "base_uri": "https://localhost:8080/"
        },
        "outputId": "a7921560-eb5e-4b04-c1ef-a0eadd625551"
      },
      "execution_count": 57,
      "outputs": [
        {
          "output_type": "stream",
          "name": "stdout",
          "text": [
            "#Columns:\n",
            "Index(['Invoice ID', 'Branch', 'City', 'Customer type', 'Gender',\n",
            "       'Product line', 'Unit price', 'Quantity', 'Gross cost', 'Payment',\n",
            "       'Rating', 'Date', 'Time', 'age'],\n",
            "      dtype='object')\n",
            "Number of rows: 1015\n",
            "Number of columns: 14\n"
          ]
        }
      ]
    },
    {
      "cell_type": "markdown",
      "source": [
        "# Exploratory Data Analysis (7 points)"
      ],
      "metadata": {
        "id": "x15yw-bF2B3M"
      }
    },
    {
      "cell_type": "markdown",
      "source": [
        "Create a new column, Tax, which is 5% of the gross cost."
      ],
      "metadata": {
        "id": "He2yinO-vDec"
      }
    },
    {
      "cell_type": "code",
      "source": [
        "df['Tax'] = df['Gross cost'] * 0.05\n",
        "\n",
        "print(\"Primeras filas del DataFrame con la nueva columna 'Tax':\")\n",
        "print(df.head())"
      ],
      "metadata": {
        "id": "QvSv4q26vkPv",
        "colab": {
          "base_uri": "https://localhost:8080/"
        },
        "outputId": "0107f952-5673-4682-bfc4-60ba80f9e8ca"
      },
      "execution_count": 59,
      "outputs": [
        {
          "output_type": "stream",
          "name": "stdout",
          "text": [
            "Primeras filas del DataFrame con la nueva columna 'Tax':\n",
            "    Invoice ID Branch    City Customer type  Gender            Product line  \\\n",
            "0  750-67-8428      A  Bilbao        Member  Female       Health and beauty   \n",
            "1  226-31-3081      C  Madrid        Normal  Female  Electronic accessories   \n",
            "2  631-41-3108      A  Bilbao        Normal    Male      Home and lifestyle   \n",
            "3  123-19-1176      A  Bilbao        Member    Male       Health and beauty   \n",
            "4  373-73-7910      A  Bilbao        Normal    Male       Sports and travel   \n",
            "\n",
            "   Unit price  Quantity  Gross cost      Payment  Rating       Date   Time  \\\n",
            "0       74.69         7      522.83      Ewallet     9.1   1/5/2019  13:08   \n",
            "1       15.28         5       76.40         Cash     9.6   3/8/2019  10:29   \n",
            "2       46.33         7      324.31  Credit card     7.4   3/3/2019  13:23   \n",
            "3       58.22         8      465.76      Ewallet     8.4  1/27/2019  20:33   \n",
            "4       86.31         7      604.17      Ewallet     5.3   2/8/2019  10:37   \n",
            "\n",
            "   age      Tax  \n",
            "0   26  26.1415  \n",
            "1   52   3.8200  \n",
            "2   46  16.2155  \n",
            "3   18  23.2880  \n",
            "4   30  30.2085  \n"
          ]
        }
      ]
    },
    {
      "cell_type": "markdown",
      "source": [
        "Create a new column named **Members discount**, that applies 1% discount on the gross cost to members.\n",
        "\n",
        "You can create conditional columns on Pandas with Numpy where() methods:\n",
        "* The *numpy.where()* function returns the indices of elements in an input array where the given condition is satisfied.\n",
        "* Syntax :numpy.where(condition, x, y)\n",
        "* Parameters: condition : When True, yield x, otherwise yield y"
      ],
      "metadata": {
        "id": "l97Wxjynz9Mj"
      }
    },
    {
      "cell_type": "code",
      "source": [
        "df['Members discount'] = df['Gross cost'] * 0.01\n",
        "\n",
        "print(\"Primeras filas del DataFrame con la nueva columna 'Members discount':\")\n",
        "print(df.head())"
      ],
      "metadata": {
        "id": "ByIod5En0mKn",
        "colab": {
          "base_uri": "https://localhost:8080/"
        },
        "outputId": "d1662894-8d92-4352-a13e-8ccb455fe088"
      },
      "execution_count": 60,
      "outputs": [
        {
          "output_type": "stream",
          "name": "stdout",
          "text": [
            "Primeras filas del DataFrame con la nueva columna 'Members discount':\n",
            "    Invoice ID Branch    City Customer type  Gender            Product line  \\\n",
            "0  750-67-8428      A  Bilbao        Member  Female       Health and beauty   \n",
            "1  226-31-3081      C  Madrid        Normal  Female  Electronic accessories   \n",
            "2  631-41-3108      A  Bilbao        Normal    Male      Home and lifestyle   \n",
            "3  123-19-1176      A  Bilbao        Member    Male       Health and beauty   \n",
            "4  373-73-7910      A  Bilbao        Normal    Male       Sports and travel   \n",
            "\n",
            "   Unit price  Quantity  Gross cost      Payment  Rating       Date   Time  \\\n",
            "0       74.69         7      522.83      Ewallet     9.1   1/5/2019  13:08   \n",
            "1       15.28         5       76.40         Cash     9.6   3/8/2019  10:29   \n",
            "2       46.33         7      324.31  Credit card     7.4   3/3/2019  13:23   \n",
            "3       58.22         8      465.76      Ewallet     8.4  1/27/2019  20:33   \n",
            "4       86.31         7      604.17      Ewallet     5.3   2/8/2019  10:37   \n",
            "\n",
            "   age      Tax  Members discount  \n",
            "0   26  26.1415            5.2283  \n",
            "1   52   3.8200            0.7640  \n",
            "2   46  16.2155            3.2431  \n",
            "3   18  23.2880            4.6576  \n",
            "4   30  30.2085            6.0417  \n"
          ]
        }
      ]
    },
    {
      "cell_type": "markdown",
      "source": [
        "Create a new column, Total, which is the sum of gross cost and tax, subtracting the discount in case of members."
      ],
      "metadata": {
        "id": "0mKMvYaax2qD"
      }
    },
    {
      "cell_type": "code",
      "source": [
        "df['Total'] = df['Gross cost'] + df['Tax'] - np.where(df['Customer type'] == 'Member', df['Members discount'], 0)\n",
        "\n",
        "print(\"Primeras filas del DataFrame con la nueva columna 'Total':\")\n",
        "print(df.head())"
      ],
      "metadata": {
        "id": "KU7GG294yA16",
        "colab": {
          "base_uri": "https://localhost:8080/"
        },
        "outputId": "349800a9-0d23-4a70-e7c0-a59d5cc826e7"
      },
      "execution_count": 61,
      "outputs": [
        {
          "output_type": "stream",
          "name": "stdout",
          "text": [
            "Primeras filas del DataFrame con la nueva columna 'Total':\n",
            "    Invoice ID Branch    City Customer type  Gender            Product line  \\\n",
            "0  750-67-8428      A  Bilbao        Member  Female       Health and beauty   \n",
            "1  226-31-3081      C  Madrid        Normal  Female  Electronic accessories   \n",
            "2  631-41-3108      A  Bilbao        Normal    Male      Home and lifestyle   \n",
            "3  123-19-1176      A  Bilbao        Member    Male       Health and beauty   \n",
            "4  373-73-7910      A  Bilbao        Normal    Male       Sports and travel   \n",
            "\n",
            "   Unit price  Quantity  Gross cost      Payment  Rating       Date   Time  \\\n",
            "0       74.69         7      522.83      Ewallet     9.1   1/5/2019  13:08   \n",
            "1       15.28         5       76.40         Cash     9.6   3/8/2019  10:29   \n",
            "2       46.33         7      324.31  Credit card     7.4   3/3/2019  13:23   \n",
            "3       58.22         8      465.76      Ewallet     8.4  1/27/2019  20:33   \n",
            "4       86.31         7      604.17      Ewallet     5.3   2/8/2019  10:37   \n",
            "\n",
            "   age      Tax  Members discount     Total  \n",
            "0   26  26.1415            5.2283  543.7432  \n",
            "1   52   3.8200            0.7640   80.2200  \n",
            "2   46  16.2155            3.2431  340.5255  \n",
            "3   18  23.2880            4.6576  484.3904  \n",
            "4   30  30.2085            6.0417  634.3785  \n"
          ]
        }
      ]
    },
    {
      "cell_type": "markdown",
      "source": [
        "Split Date column into the following columns:  Month, Day and Year."
      ],
      "metadata": {
        "id": "EGmHTMUJqQWm"
      }
    },
    {
      "cell_type": "code",
      "source": [
        "df['Date'] = pd.to_datetime(df['Date'])\n",
        "\n",
        "df['Month'] = df['Date'].dt.month\n",
        "df['Day'] = df['Date'].dt.day\n",
        "df['Year'] = df['Date'].dt.year\n",
        "\n",
        "print(\"Primeras filas del DataFrame con las nuevas columnas 'Month', 'Day' y 'Year':\")\n",
        "print(df.head())"
      ],
      "metadata": {
        "id": "Odj0GPRjqdh2",
        "colab": {
          "base_uri": "https://localhost:8080/"
        },
        "outputId": "68eab826-ea38-445a-cc2c-60c535d3bbaa"
      },
      "execution_count": 62,
      "outputs": [
        {
          "output_type": "stream",
          "name": "stdout",
          "text": [
            "Primeras filas del DataFrame con las nuevas columnas 'Month', 'Day' y 'Year':\n",
            "    Invoice ID Branch    City Customer type  Gender            Product line  \\\n",
            "0  750-67-8428      A  Bilbao        Member  Female       Health and beauty   \n",
            "1  226-31-3081      C  Madrid        Normal  Female  Electronic accessories   \n",
            "2  631-41-3108      A  Bilbao        Normal    Male      Home and lifestyle   \n",
            "3  123-19-1176      A  Bilbao        Member    Male       Health and beauty   \n",
            "4  373-73-7910      A  Bilbao        Normal    Male       Sports and travel   \n",
            "\n",
            "   Unit price  Quantity  Gross cost      Payment  Rating       Date   Time  \\\n",
            "0       74.69         7      522.83      Ewallet     9.1 2019-01-05  13:08   \n",
            "1       15.28         5       76.40         Cash     9.6 2019-03-08  10:29   \n",
            "2       46.33         7      324.31  Credit card     7.4 2019-03-03  13:23   \n",
            "3       58.22         8      465.76      Ewallet     8.4 2019-01-27  20:33   \n",
            "4       86.31         7      604.17      Ewallet     5.3 2019-02-08  10:37   \n",
            "\n",
            "   age      Tax  Members discount     Total  Month  Day  Year  \n",
            "0   26  26.1415            5.2283  543.7432      1    5  2019  \n",
            "1   52   3.8200            0.7640   80.2200      3    8  2019  \n",
            "2   46  16.2155            3.2431  340.5255      3    3  2019  \n",
            "3   18  23.2880            4.6576  484.3904      1   27  2019  \n",
            "4   30  30.2085            6.0417  634.3785      2    8  2019  \n"
          ]
        }
      ]
    },
    {
      "cell_type": "markdown",
      "source": [
        "Now, you don't need Date column, so delete it."
      ],
      "metadata": {
        "id": "-QZiCJRqnbGE"
      }
    },
    {
      "cell_type": "code",
      "source": [
        "df.drop(columns=['Date'], inplace=True)\n",
        "\n",
        "print(\"Primeras filas del DataFrame con las nuevas columnas 'Month', 'Day' y 'Year' (sin la columna 'Date'):\")\n",
        "print(df.head())"
      ],
      "metadata": {
        "id": "i7hxshxDqynd",
        "colab": {
          "base_uri": "https://localhost:8080/"
        },
        "outputId": "ffb29496-6950-4526-e1d5-b31754f21a72"
      },
      "execution_count": 63,
      "outputs": [
        {
          "output_type": "stream",
          "name": "stdout",
          "text": [
            "Primeras filas del DataFrame con las nuevas columnas 'Month', 'Day' y 'Year' (sin la columna 'Date'):\n",
            "    Invoice ID Branch    City Customer type  Gender            Product line  \\\n",
            "0  750-67-8428      A  Bilbao        Member  Female       Health and beauty   \n",
            "1  226-31-3081      C  Madrid        Normal  Female  Electronic accessories   \n",
            "2  631-41-3108      A  Bilbao        Normal    Male      Home and lifestyle   \n",
            "3  123-19-1176      A  Bilbao        Member    Male       Health and beauty   \n",
            "4  373-73-7910      A  Bilbao        Normal    Male       Sports and travel   \n",
            "\n",
            "   Unit price  Quantity  Gross cost      Payment  Rating   Time  age      Tax  \\\n",
            "0       74.69         7      522.83      Ewallet     9.1  13:08   26  26.1415   \n",
            "1       15.28         5       76.40         Cash     9.6  10:29   52   3.8200   \n",
            "2       46.33         7      324.31  Credit card     7.4  13:23   46  16.2155   \n",
            "3       58.22         8      465.76      Ewallet     8.4  20:33   18  23.2880   \n",
            "4       86.31         7      604.17      Ewallet     5.3  10:37   30  30.2085   \n",
            "\n",
            "   Members discount     Total  Month  Day  Year  \n",
            "0            5.2283  543.7432      1    5  2019  \n",
            "1            0.7640   80.2200      3    8  2019  \n",
            "2            3.2431  340.5255      3    3  2019  \n",
            "3            4.6576  484.3904      1   27  2019  \n",
            "4            6.0417  634.3785      2    8  2019  \n"
          ]
        }
      ]
    },
    {
      "cell_type": "markdown",
      "source": [
        "Create a new dataframe called 'df_numerical' containing only the numerical columns (do not include the ones related to the date and time)"
      ],
      "metadata": {
        "id": "0DdX1Y_O2_yg"
      }
    },
    {
      "cell_type": "code",
      "source": [
        "df_numerical = df.select_dtypes(include=[np.number])\n",
        "\n",
        "df_numerical = df_numerical.drop(columns=['Month', 'Day', 'Year'], errors='ignore')\n",
        "\n",
        "print(\"Primeras filas del DataFrame 'df_numerical' con solo las columnas numéricas:\")\n",
        "print(df_numerical.head())"
      ],
      "metadata": {
        "id": "IlVGcrz42-cq",
        "colab": {
          "base_uri": "https://localhost:8080/"
        },
        "outputId": "887223c0-f6e4-4c0c-e9c3-7affc7ade529"
      },
      "execution_count": 68,
      "outputs": [
        {
          "output_type": "stream",
          "name": "stdout",
          "text": [
            "Primeras filas del DataFrame 'df_numerical' con solo las columnas numéricas:\n",
            "   Unit price  Quantity  Gross cost  Rating  age      Tax  Members discount  \\\n",
            "0       74.69         7      522.83     9.1   26  26.1415            5.2283   \n",
            "1       15.28         5       76.40     9.6   52   3.8200            0.7640   \n",
            "2       46.33         7      324.31     7.4   46  16.2155            3.2431   \n",
            "3       58.22         8      465.76     8.4   18  23.2880            4.6576   \n",
            "4       86.31         7      604.17     5.3   30  30.2085            6.0417   \n",
            "\n",
            "      Total  \n",
            "0  543.7432  \n",
            "1   80.2200  \n",
            "2  340.5255  \n",
            "3  484.3904  \n",
            "4  634.3785  \n"
          ]
        }
      ]
    },
    {
      "cell_type": "code",
      "source": [],
      "metadata": {
        "id": "PwDqQZmt3ucb"
      },
      "execution_count": 17,
      "outputs": []
    },
    {
      "cell_type": "markdown",
      "source": [
        "Plot an histogram for each of the columns in 'df_numerical'. More points if you do it with subplots of size (4,2)"
      ],
      "metadata": {
        "id": "1soF1nw43xNL"
      }
    },
    {
      "cell_type": "code",
      "source": [
        "fig, axes = plt.subplots(nrows=4, ncols=2)\n",
        "\n",
        "axes = axes.flatten()\n",
        "\n",
        "for i, column in enumerate(df_numerical.columns):\n",
        "    df_numerical[column].hist(ax=axes[i], bins=30, edgecolor='black')\n",
        "    axes[i].set_title(f'Histogram of {column}')\n",
        "    axes[i].set_xlabel(column)\n",
        "    axes[i].set_ylabel('Amount')\n",
        "\n",
        "plt.tight_layout()\n",
        "plt.show()"
      ],
      "metadata": {
        "id": "EHz8NJzqaK2v",
        "colab": {
          "base_uri": "https://localhost:8080/",
          "height": 487
        },
        "outputId": "7a1d2e5e-2e62-4b6b-8a6c-cf52f773e2e0"
      },
      "execution_count": 102,
      "outputs": [
        {
          "output_type": "display_data",
          "data": {
            "text/plain": [
              "<Figure size 640x480 with 8 Axes>"
            ],
            "image/png": "[encoded data removed]"
          },
          "metadata": {}
        }
      ]
    },
    {
      "cell_type": "markdown",
      "source": [
        "Using 'df_numerical', compute the correlation between variables. What are the two variables that exhibit the most correlation between them?"
      ],
      "metadata": {
        "id": "xRtetlLPdEEx"
      }
    },
    {
      "cell_type": "code",
      "source": [
        "correlation_matrix = df_numerical.corr()\n",
        "\n",
        "correlation_pairs = correlation_matrix.unstack().sort_values(kind=\"quicksort\", ascending=False)\n",
        "\n",
        "high_correlation_pairs = correlation_pairs[correlation_pairs < 1.0]\n",
        "\n",
        "most_correlated_pair = high_correlation_pairs.idxmax()\n",
        "\n",
        "highest_correlation_value = high_correlation_pairs.max()\n",
        "\n",
        "print(\"Matriz de Correlación:\")\n",
        "print(correlation_matrix)\n",
        "\n",
        "print(\"\\nLas dos variables con la mayor correlación son:\", most_correlated_pair)\n",
        "print(\"Valor de la mayor correlación:\", highest_correlation_value)"
      ],
      "metadata": {
        "id": "b2UhqGu_dN-3",
        "colab": {
          "base_uri": "https://localhost:8080/"
        },
        "outputId": "b6af5892-67d1-4498-a929-6a6ba8ef660c"
      },
      "execution_count": 76,
      "outputs": [
        {
          "output_type": "stream",
          "name": "stdout",
          "text": [
            "Matriz de Correlación:\n",
            "                  Unit price  Quantity  Gross cost    Rating       age  \\\n",
            "Unit price          1.000000  0.013330    0.633921 -0.010287 -0.022873   \n",
            "Quantity            0.013330  1.000000    0.708750 -0.016894 -0.014820   \n",
            "Gross cost          0.633921  0.708750    1.000000 -0.040242 -0.001023   \n",
            "Rating             -0.010287 -0.016894   -0.040242  1.000000 -0.016051   \n",
            "age                -0.022873 -0.014820   -0.001023 -0.016051  1.000000   \n",
            "Tax                 0.633921  0.708750    1.000000 -0.040242 -0.001023   \n",
            "Members discount    0.633921  0.708750    1.000000 -0.040242 -0.001023   \n",
            "Total               0.633901  0.708685    0.999969 -0.040109 -0.001226   \n",
            "\n",
            "                       Tax  Members discount     Total  \n",
            "Unit price        0.633921          0.633921  0.633901  \n",
            "Quantity          0.708750          0.708750  0.708685  \n",
            "Gross cost        1.000000          1.000000  0.999969  \n",
            "Rating           -0.040242         -0.040242 -0.040109  \n",
            "age              -0.001023         -0.001023 -0.001226  \n",
            "Tax               1.000000          1.000000  0.999969  \n",
            "Members discount  1.000000          1.000000  0.999969  \n",
            "Total             0.999969          0.999969  1.000000  \n",
            "\n",
            "Las dos variables con la mayor correlación son: ('Tax', 'Gross cost')\n",
            "Valor de la mayor correlación: 0.9999999999999993\n"
          ]
        }
      ]
    },
    {
      "cell_type": "markdown",
      "source": [
        "For the following questions go back to using the dataframe with all columns, not only the numerical ones"
      ],
      "metadata": {
        "id": "-t7zQL7Dc9sq"
      }
    },
    {
      "cell_type": "markdown",
      "source": [
        "Using the loc property, find how many invoices of the A branch have cost more than 900"
      ],
      "metadata": {
        "id": "vf24hPur8ZKK"
      }
    },
    {
      "cell_type": "code",
      "source": [
        "num_invoices_A_branch_over_900 = df.loc[(df['Branch'] == 'A') & (df['Total'] > 900)].shape[0]\n",
        "\n",
        "print(\"Número de facturas de la sucursal A con un costo mayor a 900:\", num_invoices_A_branch_over_900)"
      ],
      "metadata": {
        "id": "OnTIkd8f8aEJ",
        "colab": {
          "base_uri": "https://localhost:8080/"
        },
        "outputId": "f3b29eff-bd2b-423b-cf4d-a59f23cbaf9f"
      },
      "execution_count": 77,
      "outputs": [
        {
          "output_type": "stream",
          "name": "stdout",
          "text": [
            "Número de facturas de la sucursal A con un costo mayor a 900: 6\n"
          ]
        }
      ]
    },
    {
      "cell_type": "markdown",
      "source": [
        "Display columns 5 to 7 (Product line, Unit price and Quantity) and rows 500 to 510 using the iloc property"
      ],
      "metadata": {
        "id": "P2ppZZQz_0ET"
      }
    },
    {
      "cell_type": "code",
      "source": [
        "selected_data = df.iloc[500:511, 5:8]\n",
        "\n",
        "print(\"Columnas 5 a 7 y filas 500 a 510:\")\n",
        "print(selected_data)"
      ],
      "metadata": {
        "id": "4TCxfSb__2eR",
        "colab": {
          "base_uri": "https://localhost:8080/"
        },
        "outputId": "822e6af4-7d45-432a-acf8-cfa3e2666cff"
      },
      "execution_count": 78,
      "outputs": [
        {
          "output_type": "stream",
          "name": "stdout",
          "text": [
            "Columnas 5 a 7 y filas 500 a 510:\n",
            "               Product line  Unit price  Quantity\n",
            "500       Sports and travel       73.97         1\n",
            "501     Fashion accessories       31.90         1\n",
            "502      Home and lifestyle       69.40         2\n",
            "503       Sports and travel       93.31         2\n",
            "504       Sports and travel       88.45         1\n",
            "505  Electronic accessories       24.18         8\n",
            "506       Sports and travel       48.50         3\n",
            "507      Food and beverages       84.05         6\n",
            "508       Health and beauty       61.29         5\n",
            "509      Home and lifestyle       15.95         6\n",
            "510       Sports and travel       90.74         7\n"
          ]
        }
      ]
    },
    {
      "cell_type": "markdown",
      "source": [
        "Using the loc property, change the value Ewallet in the Payment column to E-wallet."
      ],
      "metadata": {
        "id": "MMYcZdteB0ih"
      }
    },
    {
      "cell_type": "code",
      "source": [
        "df.loc[df['Payment'] == 'Ewallet', 'Payment'] = 'E-wallet'\n",
        "\n",
        "print(df['Payment'].value_counts())"
      ],
      "metadata": {
        "id": "9P4EeOrRB1Pe",
        "colab": {
          "base_uri": "https://localhost:8080/"
        },
        "outputId": "d82e6308-c3b8-4e68-eec3-ef54b4e51d0f"
      },
      "execution_count": 79,
      "outputs": [
        {
          "output_type": "stream",
          "name": "stdout",
          "text": [
            "Payment\n",
            "E-wallet       354\n",
            "Cash           347\n",
            "Credit card    314\n",
            "Name: count, dtype: int64\n"
          ]
        }
      ]
    },
    {
      "cell_type": "markdown",
      "source": [
        "How many products have women bought in branch A?"
      ],
      "metadata": {
        "id": "O10pnaQdd9O0"
      }
    },
    {
      "cell_type": "code",
      "source": [
        "num_products_bought_by_women_in_A = df.loc[(df['Branch'] == 'A') & (df['Gender'] == 'Female'), 'Quantity'].sum()\n",
        "\n",
        "print(f'Número de productos comprados por mujeres en la sucursal A: {num_products_bought_by_women_in_A}')"
      ],
      "metadata": {
        "id": "nPAEUnshfjks",
        "colab": {
          "base_uri": "https://localhost:8080/"
        },
        "outputId": "5f1690ad-d074-48dd-97fb-d9d2479da259"
      },
      "execution_count": 80,
      "outputs": [
        {
          "output_type": "stream",
          "name": "stdout",
          "text": [
            "Número de productos comprados por mujeres en la sucursal A: 921\n"
          ]
        }
      ]
    },
    {
      "cell_type": "markdown",
      "source": [
        "How many invoices have been made for men in branch C?"
      ],
      "metadata": {
        "id": "eBxs5xeliA8Y"
      }
    },
    {
      "cell_type": "code",
      "source": [
        "num_invoices_for_men_in_C = df.loc[(df['Branch'] == 'C') & (df['Gender'] == 'Male'), 'Invoice ID'].nunique()\n",
        "\n",
        "print(f'Número de facturas para hombres en la sucursal C: {num_invoices_for_men_in_C}')"
      ],
      "metadata": {
        "id": "GzK7I7M3hoDW",
        "colab": {
          "base_uri": "https://localhost:8080/"
        },
        "outputId": "6d3dbf5e-daa4-4ffa-9374-7640deb54e46"
      },
      "execution_count": 81,
      "outputs": [
        {
          "output_type": "stream",
          "name": "stdout",
          "text": [
            "Número de facturas para hombres en la sucursal C: 150\n"
          ]
        }
      ]
    },
    {
      "cell_type": "markdown",
      "source": [
        "Show how many invoices have been made for each branch, specifying whether they were for men or women."
      ],
      "metadata": {
        "id": "yrTa_S5RjKpX"
      }
    },
    {
      "cell_type": "code",
      "source": [
        "invoice_counts = df.groupby(['Branch', 'Gender'])['Invoice ID'].nunique().reset_index()\n",
        "\n",
        "invoice_counts.columns = ['Branch', 'Gender', 'Invoice Count']\n",
        "\n",
        "print(invoice_counts)"
      ],
      "metadata": {
        "id": "hMwCWd0tfQmV",
        "colab": {
          "base_uri": "https://localhost:8080/"
        },
        "outputId": "ffe9b229-e650-49bc-f508-2a7579924154"
      },
      "execution_count": 82,
      "outputs": [
        {
          "output_type": "stream",
          "name": "stdout",
          "text": [
            "  Branch  Gender  Invoice Count\n",
            "0      A  Female            161\n",
            "1      A    Male            179\n",
            "2      B  Female            162\n",
            "3      B    Male            170\n",
            "4      C  Female            178\n",
            "5      C    Male            150\n"
          ]
        }
      ]
    },
    {
      "cell_type": "markdown",
      "source": [
        "Displays in a countplot graph the payment methods and product lines of the men who have purchased from Branch C."
      ],
      "metadata": {
        "id": "fMdLiZiSkiNv"
      }
    },
    {
      "cell_type": "code",
      "source": [
        "df_men_C = df.loc[(df['Branch'] == 'C') & (df['Gender'] == 'Male')]\n",
        "\n",
        "plt.figure(figsize=(14, 6))\n",
        "\n",
        "plt.subplot(1, 2, 1)\n",
        "sns.countplot(data=df_men_C, x='Payment')\n",
        "plt.title('Payment Methods for Men in Branch C')\n",
        "plt.xlabel('Payment Method')\n",
        "plt.ylabel('Count')\n",
        "\n",
        "plt.subplot(1, 2, 2)\n",
        "sns.countplot(data=df_men_C, x='Product line')\n",
        "plt.title('Product Lines for Men in Branch C')\n",
        "plt.xlabel('Product Line')\n",
        "plt.ylabel('Count')\n",
        "\n",
        "plt.tight_layout()\n",
        "plt.show()"
      ],
      "metadata": {
        "id": "kDaBmI3XkkSv",
        "colab": {
          "base_uri": "https://localhost:8080/",
          "height": 607
        },
        "outputId": "8d4103fc-47ce-4bad-cc3f-3b40ca3f3a88"
      },
      "execution_count": 84,
      "outputs": [
        {
          "output_type": "display_data",
          "data": {
            "text/plain": [
              "<Figure size 1400x600 with 2 Axes>"
            ],
            "image/png": "[encoded data removed]"
          },
          "metadata": {}
        }
      ]
    },
    {
      "cell_type": "markdown",
      "source": [
        "Display in a countplot graph the payment methods and product lines of the women who have purchased from Branch A."
      ],
      "metadata": {
        "id": "RrDvpNVvmKy8"
      }
    },
    {
      "cell_type": "code",
      "source": [
        "df_women_A = df.loc[(df['Branch'] == 'A') & (df['Gender'] == 'Female')]\n",
        "\n",
        "plt.figure(figsize=(14, 6))\n",
        "\n",
        "plt.subplot(1, 2, 1)\n",
        "sns.countplot(data=df_women_A, x='Payment')\n",
        "plt.title('Payment Methods for Women in Branch A')\n",
        "plt.xlabel('Payment Method')\n",
        "plt.ylabel('Count')\n",
        "\n",
        "plt.subplot(1, 2, 2)\n",
        "sns.countplot(data=df_women_A, x='Product line')\n",
        "plt.title('Product Lines for Women in Branch A')\n",
        "plt.xlabel('Product Line')\n",
        "plt.ylabel('Count')\n",
        "\n",
        "# Ajustar el layout\n",
        "plt.tight_layout()\n",
        "plt.show()"
      ],
      "metadata": {
        "id": "5CDeYvg0lzKx",
        "colab": {
          "base_uri": "https://localhost:8080/",
          "height": 607
        },
        "outputId": "a3ec0534-492d-48be-9252-d99e253b6d0a"
      },
      "execution_count": 85,
      "outputs": [
        {
          "output_type": "display_data",
          "data": {
            "text/plain": [
              "<Figure size 1400x600 with 2 Axes>"
            ],
            "image/png": "[encoded data removed]"
          },
          "metadata": {}
        }
      ]
    },
    {
      "cell_type": "markdown",
      "source": [
        "Which product line is most purchased by member customers and which product line is most purchased by normal customers?"
      ],
      "metadata": {
        "id": "N4VMt3FNppxF"
      }
    },
    {
      "cell_type": "code",
      "source": [
        "most_purchased_by_members = df.loc[df['Customer type'] == 'Member', 'Product line'].value_counts().idxmax()\n",
        "\n",
        "most_purchased_by_normals = df.loc[df['Customer type'] == 'Normal', 'Product line'].value_counts().idxmax()\n",
        "\n",
        "print(f'La línea de producto más comprada por los clientes miembros es: {most_purchased_by_members}')\n",
        "print(f'La línea de producto más comprada por los clientes normales es: {most_purchased_by_normals}')"
      ],
      "metadata": {
        "id": "wPQM0anxmrbS",
        "colab": {
          "base_uri": "https://localhost:8080/"
        },
        "outputId": "e90065d1-9866-4db6-aa6f-639215c3ae44"
      },
      "execution_count": 86,
      "outputs": [
        {
          "output_type": "stream",
          "name": "stdout",
          "text": [
            "La línea de producto más comprada por los clientes miembros es: Food and beverages\n",
            "La línea de producto más comprada por los clientes normales es: Fashion accessories\n"
          ]
        }
      ]
    },
    {
      "cell_type": "markdown",
      "source": [
        "For how many years do we have data?"
      ],
      "metadata": {
        "id": "WVNio6oorMM-"
      }
    },
    {
      "cell_type": "code",
      "source": [
        "num_years = df['Year'].nunique()\n",
        "\n",
        "print(f'Número de años de datos disponibles: {num_years}')"
      ],
      "metadata": {
        "id": "tL_19scGrMnP",
        "colab": {
          "base_uri": "https://localhost:8080/"
        },
        "outputId": "cbc3be02-2a80-45df-86e7-b52b58340465"
      },
      "execution_count": 87,
      "outputs": [
        {
          "output_type": "stream",
          "name": "stdout",
          "text": [
            "Número de años de datos disponibles: 1\n"
          ]
        }
      ]
    },
    {
      "cell_type": "markdown",
      "source": [
        "In which month did customers buy the most products?"
      ],
      "metadata": {
        "id": "VYGeIJslrr26"
      }
    },
    {
      "cell_type": "code",
      "source": [
        "total_products_per_month = df.groupby('Month')['Quantity'].sum()\n",
        "\n",
        "most_products_month = total_products_per_month.idxmax()\n",
        "most_products_month_quantity = total_products_per_month.max()\n",
        "\n",
        "print(f'El mes en el que los clientes compraron más productos es: {most_products_month} con un total de {most_products_month_quantity} productos comprados.')"
      ],
      "metadata": {
        "id": "9HWApE4ksxFv",
        "colab": {
          "base_uri": "https://localhost:8080/"
        },
        "outputId": "559a1a2c-a5ee-46e9-a942-7adfe6fcd56b"
      },
      "execution_count": 88,
      "outputs": [
        {
          "output_type": "stream",
          "name": "stdout",
          "text": [
            "El mes en el que los clientes compraron más productos es: 1 con un total de 1992 productos comprados.\n"
          ]
        }
      ]
    },
    {
      "cell_type": "markdown",
      "source": [
        "In which month did customers spend the most money?"
      ],
      "metadata": {
        "id": "FfNNTNDPshLH"
      }
    },
    {
      "cell_type": "code",
      "source": [
        "\n",
        "total_spent_per_month = df.groupby('Month')['Total'].sum()\n",
        "\n",
        "most_money_spent_month = total_spent_per_month.idxmax()\n",
        "most_money_spent_amount = total_spent_per_month.max()\n",
        "\n",
        "print(f'El mes en el que los clientes gastaron más dinero es: {most_money_spent_month} con un total de {most_money_spent_amount:.2f} unidades monetarias.')"
      ],
      "metadata": {
        "id": "uG027V4dr0Jp",
        "colab": {
          "base_uri": "https://localhost:8080/"
        },
        "outputId": "0d613aca-539b-470c-a321-027cd5c0642c"
      },
      "execution_count": 89,
      "outputs": [
        {
          "output_type": "stream",
          "name": "stdout",
          "text": [
            "El mes en el que los clientes gastaron más dinero es: 1 con un total de 117729.88 unidades monetarias.\n"
          ]
        }
      ]
    },
    {
      "cell_type": "markdown",
      "source": [
        "In which month have there been more purchases by member customers than normal customers?"
      ],
      "metadata": {
        "id": "Jk7hNJyytc6g"
      }
    },
    {
      "cell_type": "code",
      "source": [
        "member_purchases = df[df['Customer type'] == 'Member']\n",
        "normal_purchases = df[df['Customer type'] == 'Normal']\n",
        "\n",
        "member_purchases_per_month = member_purchases['Month'].value_counts().sort_index()\n",
        "normal_purchases_per_month = normal_purchases['Month'].value_counts().sort_index()\n",
        "\n",
        "comparison_df = pd.DataFrame({\n",
        "    'Member Purchases': member_purchases_per_month,\n",
        "    'Normal Purchases': normal_purchases_per_month\n",
        "}).fillna(0)\n",
        "\n",
        "months_with_more_member_purchases = comparison_df[comparison_df['Member Purchases'] > comparison_df['Normal Purchases']]\n",
        "\n",
        "print(\"Meses en los que los clientes miembros realizaron más compras que los clientes normales:\")\n",
        "print(months_with_more_member_purchases)"
      ],
      "metadata": {
        "id": "TgLJbovbtdRI",
        "colab": {
          "base_uri": "https://localhost:8080/"
        },
        "outputId": "24808f54-1143-4ed3-fe48-4a5353c15ab1"
      },
      "execution_count": 90,
      "outputs": [
        {
          "output_type": "stream",
          "name": "stdout",
          "text": [
            "Meses en los que los clientes miembros realizaron más compras que los clientes normales:\n",
            "       Member Purchases  Normal Purchases\n",
            "Month                                    \n",
            "2                   166               144\n"
          ]
        }
      ]
    },
    {
      "cell_type": "markdown",
      "source": [
        "Which product line has had the most products rated as a 10?"
      ],
      "metadata": {
        "id": "QFRwROCvuyOY"
      }
    },
    {
      "cell_type": "code",
      "source": [
        "most_rated_10_product_line = df.loc[df['Rating'] == 10, 'Product line'].value_counts().idxmax()\n",
        "\n",
        "print(f'La línea de producto con la mayor cantidad de productos calificados con un 10 es: {most_rated_10_product_line}')"
      ],
      "metadata": {
        "id": "ymTfgMaEv00e",
        "colab": {
          "base_uri": "https://localhost:8080/"
        },
        "outputId": "27a83f92-81d4-4b4e-8836-d8caa15693fa"
      },
      "execution_count": 94,
      "outputs": [
        {
          "output_type": "stream",
          "name": "stdout",
          "text": [
            "La línea de producto con la mayor cantidad de productos calificados con un 10 es: Sports and travel\n"
          ]
        }
      ]
    },
    {
      "cell_type": "markdown",
      "source": [
        "Display product lines with a rating of 9 or more in a boxplot."
      ],
      "metadata": {
        "id": "J7FJ_s5oxWRF"
      }
    },
    {
      "cell_type": "code",
      "source": [
        "high_rated_products = df[df['Rating'] >= 9]\n",
        "\n",
        "plt.figure(figsize=(12, 8))\n",
        "sns.boxplot(data=high_rated_products, x='Product line', y='Rating')\n",
        "plt.title('Product Lines with a Rating of 9 or More')\n",
        "plt.xlabel('Product Line')\n",
        "plt.ylabel('Rating')\n",
        "plt.xticks(rotation=45)\n",
        "plt.show()"
      ],
      "metadata": {
        "id": "Sw5uVW1owveC",
        "colab": {
          "base_uri": "https://localhost:8080/",
          "height": 822
        },
        "outputId": "d4600d27-c37b-4378-e3dc-347b3e94fb71"
      },
      "execution_count": 93,
      "outputs": [
        {
          "output_type": "display_data",
          "data": {
            "text/plain": [
              "<Figure size 1200x800 with 1 Axes>"
            ],
            "image/png": "[encoded data removed]"
          },
          "metadata": {}
        }
      ]
    },
    {
      "cell_type": "markdown",
      "source": [
        "Display in a plot the hours in which more than 20 products are purchased."
      ],
      "metadata": {
        "id": "Rwu3tZLGMPxJ"
      }
    },
    {
      "cell_type": "code",
      "source": [
        "df['Time'] = pd.to_datetime(df['Time']).dt.hour\n",
        "\n",
        "products_per_hour = df.groupby('Time')['Quantity'].sum()\n",
        "\n",
        "hours_with_more_than_20_products = products_per_hour[products_per_hour > 20]\n",
        "\n",
        "plt.figure(figsize=(12, 6))\n",
        "hours_with_more_than_20_products.plot(kind='bar')\n",
        "plt.title('Horas en las que se compraron más de 20 productos')\n",
        "plt.xlabel('Hora')\n",
        "plt.ylabel('Cantidad de productos comprados')\n",
        "plt.xticks(rotation=0)\n",
        "plt.show()\n"
      ],
      "metadata": {
        "id": "OInvNy9OC42a",
        "colab": {
          "base_uri": "https://localhost:8080/",
          "height": 600
        },
        "outputId": "8e5e6064-cd98-49b5-bfdd-5e424d9cec1c"
      },
      "execution_count": 95,
      "outputs": [
        {
          "output_type": "stream",
          "name": "stderr",
          "text": [
            "<ipython-input-95-082b2424f383>:1: UserWarning: Could not infer format, so each element will be parsed individually, falling back to `dateutil`. To ensure parsing is consistent and as-expected, please specify a format.\n",
            "  df['Time'] = pd.to_datetime(df['Time']).dt.hour\n"
          ]
        },
        {
          "output_type": "display_data",
          "data": {
            "text/plain": [
              "<Figure size 1200x600 with 1 Axes>"
            ],
            "image/png": "[encoded data removed]"
          },
          "metadata": {}
        }
      ]
    },
    {
      "cell_type": "markdown",
      "source": [
        "Show in a pie chart the percentage of products purchased in each city."
      ],
      "metadata": {
        "id": "KRqsnFwBnnUv"
      }
    },
    {
      "cell_type": "code",
      "source": [
        "products_per_city = df.groupby('City')['Quantity'].sum()\n",
        "\n",
        "plt.figure(figsize=(10, 7))\n",
        "products_per_city.plot(kind='pie', autopct='%1.1f%%', startangle=140)\n",
        "plt.title('Percentage of Products Purchased in Each City')\n",
        "plt.ylabel('')\n",
        "plt.show()"
      ],
      "metadata": {
        "id": "XcQXthp5oYDU",
        "colab": {
          "base_uri": "https://localhost:8080/",
          "height": 598
        },
        "outputId": "85542f75-1890-48d6-c2ef-9a834d5393a1"
      },
      "execution_count": 96,
      "outputs": [
        {
          "output_type": "display_data",
          "data": {
            "text/plain": [
              "<Figure size 1000x700 with 1 Axes>"
            ],
            "image/png": "[encoded data removed]"
          },
          "metadata": {}
        }
      ]
    },
    {
      "cell_type": "code",
      "source": [],
      "metadata": {
        "id": "VsHau-9-n56k"
      },
      "execution_count": null,
      "outputs": []
    },
    {
      "cell_type": "markdown",
      "source": [
        "Show in a pie chart  the percentage of customers under 30 years old per city"
      ],
      "metadata": {
        "id": "h4eVK1xOw2de"
      }
    },
    {
      "cell_type": "code",
      "source": [
        "under_30 = df[df['age'] < 30]\n",
        "\n",
        "under_30_per_city = under_30['City'].value_counts()\n",
        "\n",
        "plt.figure(figsize=(10, 7))\n",
        "under_30_per_city.plot(kind='pie', autopct='%1.1f%%', startangle=140)\n",
        "plt.title('Percentage of Customers Under 30 Years Old per City')\n",
        "plt.ylabel('')\n",
        "plt.show()"
      ],
      "metadata": {
        "id": "HcKDqYuVqAi5",
        "colab": {
          "base_uri": "https://localhost:8080/",
          "height": 598
        },
        "outputId": "eb1e34fd-d505-48b9-e3c2-c9b02dcda298"
      },
      "execution_count": 97,
      "outputs": [
        {
          "output_type": "display_data",
          "data": {
            "text/plain": [
              "<Figure size 1000x700 with 1 Axes>"
            ],
            "image/png": "[encoded data removed]"
          },
          "metadata": {}
        }
      ]
    },
    {
      "cell_type": "markdown",
      "source": [
        "# Other interesting analylsis to carry out (1.5 points)\n",
        "\n",
        "What other analysis could be interesting for the supermarket? Please, provide two proposals with the required code to test them."
      ],
      "metadata": {
        "id": "HD5HSgOK241c"
      }
    },
    {
      "cell_type": "code",
      "source": [
        "most_purchased_product_by_men = df[df['Gender'] == 'Male']['Product line'].value_counts().idxmax()\n",
        "\n",
        "most_purchased_product_by_women = df[df['Gender'] == 'Female']['Product line'].value_counts().idxmax()\n",
        "\n",
        "print(f'El tipo de artículo más comprado por los hombres es: {most_purchased_product_by_men}')\n",
        "print(f'El tipo de artículo más comprado por las mujeres es: {most_purchased_product_by_women}')"
      ],
      "metadata": {
        "id": "MmKr17qP3gYs",
        "colab": {
          "base_uri": "https://localhost:8080/"
        },
        "outputId": "1cbb326f-f955-4e1c-f438-cc7d4d9ac6c3"
      },
      "execution_count": 99,
      "outputs": [
        {
          "output_type": "stream",
          "name": "stdout",
          "text": [
            "El tipo de artículo más comprado por los hombres es: Health and beauty\n",
            "El tipo de artículo más comprado por las mujeres es: Fashion accessories\n"
          ]
        }
      ]
    },
    {
      "cell_type": "code",
      "source": [
        "rating_stats = df.groupby(['City', 'Product line'])['Rating'].agg(['mean', 'max', 'min'])\n",
        "\n",
        "rating_stats_sorted = rating_stats.sort_values(by=['City', 'Product line'])\n",
        "\n",
        "print(rating_stats_sorted)"
      ],
      "metadata": {
        "id": "tf-tMa5U3hPc",
        "colab": {
          "base_uri": "https://localhost:8080/"
        },
        "outputId": "e9cda076-25fd-412f-cc3f-db8c64af5909"
      },
      "execution_count": 103,
      "outputs": [
        {
          "output_type": "stream",
          "name": "stdout",
          "text": [
            "                                      mean   max  min\n",
            "City      Product line                               \n",
            "Barcelona Electronic accessories  7.116364  10.0  4.0\n",
            "          Fashion accessories     6.748437   9.9  4.1\n",
            "          Food and beverages      6.994000   9.9  4.0\n",
            "          Health and beauty       7.057143   9.9  4.0\n",
            "          Home and lifestyle      6.474510   9.8  4.1\n",
            "          Sports and travel       6.529508  10.0  4.1\n",
            "Bilbao    Electronic accessories  6.942623   9.9  4.3\n",
            "          Fashion accessories     6.873077   9.9  4.0\n",
            "          Food and beverages      7.215000   9.9  4.0\n",
            "          Health and beauty       6.900000  10.0  4.2\n",
            "          Home and lifestyle      6.887879   9.9  4.1\n",
            "          Sports and travel       7.257627   9.9  4.1\n",
            "Madrid    Electronic accessories  6.689474   9.8  4.1\n",
            "          Fashion accessories     7.407813   9.9  4.0\n",
            "          Food and beverages      7.080303   9.9  4.0\n",
            "          Health and beauty       6.983019   9.9  4.1\n",
            "          Home and lifestyle      7.060000   9.8  4.3\n",
            "          Sports and travel       7.028889  10.0  4.0\n"
          ]
        }
      ]
    },
    {
      "cell_type": "markdown",
      "source": [
        "# Conclusions (1.5 points)\n",
        "\n",
        "Please, write the conclusiones you can extract from the analysis and the recommendations you would provide to the supermarket."
      ],
      "metadata": {
        "id": "sVgJvm-12LAM"
      }
    },
    {
      "cell_type": "markdown",
      "source": [
        "Con los datos en la mano habría que realizar un analisis en detalle para saber por qué hay ratings tan distintos en determindas lineas de producto dependiendo de la ciudad.\n",
        "\n",
        "Por otro lado a partir de la salida del trabajo de la gente (desde las 17h hasta las 19h incluido) hay bastante aumento de ventas, puede ser interesante reforzar el personal de trabajo con alguien a media jornada."
      ],
      "metadata": {
        "id": "r9z0cDo-3iFs"
      }
    }
  ]
}